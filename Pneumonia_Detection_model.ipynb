{
  "nbformat": 4,
  "nbformat_minor": 0,
  "metadata": {
    "colab": {
      "name": "Pneumonia Detection model.ipynb",
      "provenance": [],
      "collapsed_sections": [],
      "include_colab_link": true
    },
    "kernelspec": {
      "name": "python3",
      "display_name": "Python 3"
    }
  },
  "cells": [
    {
      "cell_type": "markdown",
      "metadata": {
        "id": "view-in-github",
        "colab_type": "text"
      },
      "source": [
        "<a href=\"https://colab.research.google.com/github/Kshitij879/PnemoniaDetection/blob/main/Pneumonia_Detection_model.ipynb\" target=\"_parent\"><img src=\"https://colab.research.google.com/assets/colab-badge.svg\" alt=\"Open In Colab\"/></a>"
      ]
    },
    {
      "cell_type": "code",
      "metadata": {
        "id": "sZSs-1vXsq4t",
        "colab": {
          "base_uri": "https://localhost:8080/"
        },
        "outputId": "85a19079-8c82-4ea6-cf2e-b5975dbbe550"
      },
      "source": [
        "print(\"Hello to pneumonia detection\")"
      ],
      "execution_count": null,
      "outputs": [
        {
          "output_type": "stream",
          "text": [
            "Hello to pneumonia detection\n"
          ],
          "name": "stdout"
        }
      ]
    },
    {
      "cell_type": "code",
      "metadata": {
        "id": "3TgeY6BptZvp",
        "colab": {
          "base_uri": "https://localhost:8080/"
        },
        "outputId": "3bc6c329-c6aa-40c8-a056-8715c9b7eb3e"
      },
      "source": [
        "print(\"check001\")"
      ],
      "execution_count": null,
      "outputs": [
        {
          "output_type": "stream",
          "text": [
            "check001\n"
          ],
          "name": "stdout"
        }
      ]
    }
  ]
}